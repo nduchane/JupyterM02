{
 "cells": [
  {
   "cell_type": "raw",
   "id": "c2c72606",
   "metadata": {},
   "source": []
  },
  {
   "cell_type": "code",
   "execution_count": 3,
   "id": "858c7977",
   "metadata": {},
   "outputs": [],
   "source": [
    "secret = 7"
   ]
  },
  {
   "cell_type": "code",
   "execution_count": 4,
   "id": "8fa12f07",
   "metadata": {},
   "outputs": [
    {
     "name": "stdout",
     "output_type": "stream",
     "text": [
      "Guess a number between 1 and 10.\n"
     ]
    }
   ],
   "source": [
    "print('Guess a number between 1 and 10.')"
   ]
  },
  {
   "cell_type": "code",
   "execution_count": 13,
   "id": "260b3d39",
   "metadata": {},
   "outputs": [
    {
     "name": "stdout",
     "output_type": "stream",
     "text": [
      "4\n"
     ]
    }
   ],
   "source": [
    "guess = int(input())"
   ]
  },
  {
   "cell_type": "code",
   "execution_count": 14,
   "id": "12c5a8ae",
   "metadata": {},
   "outputs": [
    {
     "name": "stdout",
     "output_type": "stream",
     "text": [
      "too low\n"
     ]
    }
   ],
   "source": [
    "if guess < secret:\n",
    "    print('too low')\n",
    "else:\n",
    "    if guess > secret:\n",
    "        print('too high')\n",
    "    else:\n",
    "        print('just right')"
   ]
  },
  {
   "cell_type": "code",
   "execution_count": null,
   "id": "52f81736",
   "metadata": {},
   "outputs": [],
   "source": []
  },
  {
   "cell_type": "code",
   "execution_count": null,
   "id": "d36c7413",
   "metadata": {},
   "outputs": [],
   "source": []
  },
  {
   "cell_type": "code",
   "execution_count": null,
   "id": "7cc707a4",
   "metadata": {},
   "outputs": [],
   "source": []
  }
 ],
 "metadata": {},
 "nbformat": 4,
 "nbformat_minor": 5
}
