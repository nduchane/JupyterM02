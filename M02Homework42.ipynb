{
 "cells": [
  {
   "cell_type": "code",
   "execution_count": 7,
   "id": "7dc2fb47",
   "metadata": {},
   "outputs": [
    {
     "name": "stdout",
     "output_type": "stream",
     "text": [
      "Is the object small?\n",
      "y\n"
     ]
    }
   ],
   "source": [
    "print('Is the object small?')\n",
    "response = input()\n",
    "if response == 'yes' or 'y' or 'Yes':\n",
    "    small = True\n",
    "else:\n",
    "    small = False"
   ]
  },
  {
   "cell_type": "code",
   "execution_count": 9,
   "id": "95e3961d",
   "metadata": {},
   "outputs": [
    {
     "name": "stdout",
     "output_type": "stream",
     "text": [
      "Is the object green?\n",
      "y\n"
     ]
    }
   ],
   "source": [
    "print('Is the object green?')\n",
    "response = input()\n",
    "if response == 'yes' or 'y' or 'Yes':\n",
    "    green = True\n",
    "else:\n",
    "    green = False"
   ]
  },
  {
   "cell_type": "code",
   "execution_count": 10,
   "id": "5c2c5f2b",
   "metadata": {},
   "outputs": [
    {
     "name": "stdout",
     "output_type": "stream",
     "text": [
      "It's a pea\n"
     ]
    }
   ],
   "source": [
    "if small == True:\n",
    "    if green == True:\n",
    "        print('It\\'s a pea')\n",
    "    else:\n",
    "        print('It\\'s a cherry')\n",
    "else:\n",
    "    if green == True:\n",
    "        print('It\\'s a watermelon')\n",
    "    else:\n",
    "        print('It\\'s a pumpkin')"
   ]
  },
  {
   "cell_type": "code",
   "execution_count": null,
   "id": "70a1d2fa",
   "metadata": {},
   "outputs": [],
   "source": []
  },
  {
   "cell_type": "code",
   "execution_count": null,
   "id": "71112804",
   "metadata": {},
   "outputs": [],
   "source": []
  }
 ],
 "metadata": {
  "kernelspec": {
   "display_name": "Python 3 (ipykernel)",
   "language": "python",
   "name": "python3"
  },
  "language_info": {
   "codemirror_mode": {
    "name": "ipython",
    "version": 3
   },
   "file_extension": ".py",
   "mimetype": "text/x-python",
   "name": "python",
   "nbconvert_exporter": "python",
   "pygments_lexer": "ipython3",
   "version": "3.9.12"
  }
 },
 "nbformat": 4,
 "nbformat_minor": 5
}
